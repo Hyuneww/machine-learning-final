{
 "cells": [
  {
   "cell_type": "markdown",
   "metadata": {},
   "source": [
    "## Data Process"
   ]
  },
  {
   "cell_type": "markdown",
   "metadata": {},
   "source": [
    "### Description\n",
    "\n",
    "This script cleans the feature column in the `emails.csv` document. \n",
    "\n",
    "### Steps\n",
    "\n",
    "1. Import the data generated from `data-process.ipynb`\n",
    "\n",
    "2. Randomly shuffle rows and reset row index to mix hams with spams\n",
    "\n",
    "3. Text pre-process:\n",
    "  - remove punctuation\n",
    "  - remove stop words\n",
    "  \n",
    "4. Save as a new csv file."
   ]
  },
  {
   "cell_type": "code",
   "execution_count": 1,
   "metadata": {},
   "outputs": [
    {
     "name": "stderr",
     "output_type": "stream",
     "text": [
      "[nltk_data] Downloading package stopwords to\n",
      "[nltk_data]     C:\\Users\\Administrator\\AppData\\Roaming\\nltk_data...\n",
      "[nltk_data]   Unzipping corpora\\stopwords.zip.\n",
      "[nltk_data] Downloading package punkt to\n",
      "[nltk_data]     C:\\Users\\Administrator\\AppData\\Roaming\\nltk_data...\n",
      "[nltk_data]   Unzipping tokenizers\\punkt.zip.\n"
     ]
    },
    {
     "name": "stdout",
     "output_type": "stream",
     "text": [
      "SUCCESS! All modules have been imported.\n"
     ]
    }
   ],
   "source": [
    "import pandas as pd\n",
    "import string\n",
    "from sklearn.feature_extraction.text import TfidfVectorizer\n",
    "import nltk\n",
    "from nltk.corpus import stopwords\n",
    "from nltk import word_tokenize\n",
    "nltk.download('stopwords')   #需要科学上网\n",
    "nltk.download('punkt')\n",
    "\n",
    "print(\"SUCCESS! All modules have been imported.\")"
   ]
  },
  {
   "cell_type": "code",
   "execution_count": 2,
   "metadata": {},
   "outputs": [],
   "source": [
    "df = pd.read_csv(\"../data/emails.csv\")"
   ]
  },
  {
   "cell_type": "code",
   "execution_count": 3,
   "metadata": {},
   "outputs": [],
   "source": [
    "# Randomly shuffle rows to mix ham emails with spam ones\n",
    "df = df.sample(frac = 1).reset_index(drop=True)"
   ]
  },
  {
   "cell_type": "code",
   "execution_count": 4,
   "metadata": {},
   "outputs": [
    {
     "data": {
      "text/plain": [
       "(829172, 2)"
      ]
     },
     "metadata": {},
     "output_type": "display_data"
    },
    {
     "data": {
      "text/html": [
       "<div>\n",
       "<style scoped>\n",
       "    .dataframe tbody tr th:only-of-type {\n",
       "        vertical-align: middle;\n",
       "    }\n",
       "\n",
       "    .dataframe tbody tr th {\n",
       "        vertical-align: top;\n",
       "    }\n",
       "\n",
       "    .dataframe thead th {\n",
       "        text-align: right;\n",
       "    }\n",
       "</style>\n",
       "<table border=\"1\" class=\"dataframe\">\n",
       "  <thead>\n",
       "    <tr style=\"text-align: right;\">\n",
       "      <th></th>\n",
       "      <th>X</th>\n",
       "      <th>y</th>\n",
       "    </tr>\n",
       "  </thead>\n",
       "  <tbody>\n",
       "    <tr>\n",
       "      <th>0</th>\n",
       "      <td>medicinal drugs with costs that are as more as...</td>\n",
       "      <td>1</td>\n",
       "    </tr>\n",
       "    <tr>\n",
       "      <th>1</th>\n",
       "      <td>* when to exit based on signals</td>\n",
       "      <td>0</td>\n",
       "    </tr>\n",
       "    <tr>\n",
       "      <th>2</th>\n",
       "      <td>cleaning the conference rooms after meetings ....</td>\n",
       "      <td>0</td>\n",
       "    </tr>\n",
       "    <tr>\n",
       "      <th>3</th>\n",
       "      <td>anyone can help , please help .</td>\n",
       "      <td>0</td>\n",
       "    </tr>\n",
       "    <tr>\n",
       "      <th>4</th>\n",
       "      <td>fda - approved labs , contain a sophisticated ...</td>\n",
       "      <td>1</td>\n",
       "    </tr>\n",
       "    <tr>\n",
       "      <th>5</th>\n",
       "      <td>&gt; &gt; fiction : gore claimed that his knowledge ...</td>\n",
       "      <td>0</td>\n",
       "    </tr>\n",
       "    <tr>\n",
       "      <th>6</th>\n",
       "      <td>slob - b - bering ove - e - r</td>\n",
       "      <td>1</td>\n",
       "    </tr>\n",
       "    <tr>\n",
       "      <th>7</th>\n",
       "      <td>methanol is a swing deal , by which the gas sa...</td>\n",
       "      <td>0</td>\n",
       "    </tr>\n",
       "    <tr>\n",
       "      <th>8</th>\n",
       "      <td>black , don in in in</td>\n",
       "      <td>0</td>\n",
       "    </tr>\n",
       "    <tr>\n",
       "      <th>9</th>\n",
       "      <td>walk north past the instructional center to th...</td>\n",
       "      <td>0</td>\n",
       "    </tr>\n",
       "  </tbody>\n",
       "</table>\n",
       "</div>"
      ],
      "text/plain": [
       "                                                   X  y\n",
       "0  medicinal drugs with costs that are as more as...  1\n",
       "1                    * when to exit based on signals  0\n",
       "2  cleaning the conference rooms after meetings ....  0\n",
       "3                    anyone can help , please help .  0\n",
       "4  fda - approved labs , contain a sophisticated ...  1\n",
       "5  > > fiction : gore claimed that his knowledge ...  0\n",
       "6                      slob - b - bering ove - e - r  1\n",
       "7  methanol is a swing deal , by which the gas sa...  0\n",
       "8                               black , don in in in  0\n",
       "9  walk north past the instructional center to th...  0"
      ]
     },
     "metadata": {},
     "output_type": "display_data"
    },
    {
     "data": {
      "text/html": [
       "<div>\n",
       "<style scoped>\n",
       "    .dataframe tbody tr th:only-of-type {\n",
       "        vertical-align: middle;\n",
       "    }\n",
       "\n",
       "    .dataframe tbody tr th {\n",
       "        vertical-align: top;\n",
       "    }\n",
       "\n",
       "    .dataframe thead th {\n",
       "        text-align: right;\n",
       "    }\n",
       "</style>\n",
       "<table border=\"1\" class=\"dataframe\">\n",
       "  <thead>\n",
       "    <tr style=\"text-align: right;\">\n",
       "      <th></th>\n",
       "      <th>X</th>\n",
       "      <th>y</th>\n",
       "    </tr>\n",
       "  </thead>\n",
       "  <tbody>\n",
       "    <tr>\n",
       "      <th>829162</th>\n",
       "      <td>ph : ( 403 ) 974 - 1737</td>\n",
       "      <td>0</td>\n",
       "    </tr>\n",
       "    <tr>\n",
       "      <th>829163</th>\n",
       "      <td>http : / / www . islurp . biz : 8070 / us . php</td>\n",
       "      <td>1</td>\n",
       "    </tr>\n",
       "    <tr>\n",
       "      <th>829164</th>\n",
       "      <td>pjm has stated that in order to meet its deadl...</td>\n",
       "      <td>0</td>\n",
       "    </tr>\n",
       "    <tr>\n",
       "      <th>829165</th>\n",
       "      <td>this sf . net email is sponsored by : thinkgeek</td>\n",
       "      <td>1</td>\n",
       "    </tr>\n",
       "    <tr>\n",
       "      <th>829166</th>\n",
       "      <td>medication on the net . no perscription , easy</td>\n",
       "      <td>1</td>\n",
       "    </tr>\n",
       "    <tr>\n",
       "      <th>829167</th>\n",
       "      <td>quality training de mxico</td>\n",
       "      <td>1</td>\n",
       "    </tr>\n",
       "    <tr>\n",
       "      <th>829168</th>\n",
       "      <td>copyright 2001 . the associated press . all ri...</td>\n",
       "      <td>0</td>\n",
       "    </tr>\n",
       "    <tr>\n",
       "      <th>829169</th>\n",
       "      <td>millions of profiles . many are local to your ...</td>\n",
       "      <td>1</td>\n",
       "    </tr>\n",
       "    <tr>\n",
       "      <th>829170</th>\n",
       "      <td>/ tr</td>\n",
       "      <td>1</td>\n",
       "    </tr>\n",
       "    <tr>\n",
       "      <th>829171</th>\n",
       "      <td>let me know your thoughts .</td>\n",
       "      <td>0</td>\n",
       "    </tr>\n",
       "  </tbody>\n",
       "</table>\n",
       "</div>"
      ],
      "text/plain": [
       "                                                        X  y\n",
       "829162                            ph : ( 403 ) 974 - 1737  0\n",
       "829163    http : / / www . islurp . biz : 8070 / us . php  1\n",
       "829164  pjm has stated that in order to meet its deadl...  0\n",
       "829165    this sf . net email is sponsored by : thinkgeek  1\n",
       "829166     medication on the net . no perscription , easy  1\n",
       "829167                          quality training de mxico  1\n",
       "829168  copyright 2001 . the associated press . all ri...  0\n",
       "829169  millions of profiles . many are local to your ...  1\n",
       "829170                                               / tr  1\n",
       "829171                        let me know your thoughts .  0"
      ]
     },
     "metadata": {},
     "output_type": "display_data"
    }
   ],
   "source": [
    "display(df.shape)\n",
    "display(df.head(10))\n",
    "display(df.tail(10))"
   ]
  },
  {
   "cell_type": "code",
   "execution_count": 6,
   "metadata": {},
   "outputs": [],
   "source": [
    "# Create a stop list\n",
    "self_define = ['enron','subject','ect','hou','e','http'] # Manual list of words to be removed\n",
    "stoplist = stopwords.words('english') + list(string.punctuation) + self_define\n",
    "stoplist = set(stoplist)"
   ]
  },
  {
   "cell_type": "code",
   "execution_count": 7,
   "metadata": {},
   "outputs": [],
   "source": [
    "def trim_word(text):\n",
    "    '''Remove unrelated words or symbols in emails\n",
    "    Param: text: email content as a string\n",
    "    '''\n",
    "    text = [word for word in word_tokenize(text) if word.lower() not in stoplist and not word.isdigit() and word.isalpha()]\n",
    "    return \" \".join(text)"
   ]
  },
  {
   "cell_type": "code",
   "execution_count": 8,
   "metadata": {},
   "outputs": [],
   "source": [
    "df['X'] = df['X'].astype(str)"
   ]
  },
  {
   "cell_type": "code",
   "execution_count": 9,
   "metadata": {
    "scrolled": true
   },
   "outputs": [],
   "source": [
    "# Remove punctuation, stop words, and self-defined words in X\n",
    "df['X'] = df['X'].apply(trim_word)"
   ]
  },
  {
   "cell_type": "code",
   "execution_count": 10,
   "metadata": {},
   "outputs": [],
   "source": [
    "df2 = df.copy()"
   ]
  },
  {
   "cell_type": "code",
   "execution_count": 11,
   "metadata": {},
   "outputs": [
    {
     "name": "stdout",
     "output_type": "stream",
     "text": [
      "Total missing values (NaN) in the feature column: 43413\n",
      "\n",
      "Total missing values (NaN) takes up 5.24% of our data.\n"
     ]
    }
   ],
   "source": [
    "# Check missing values\n",
    "nan_value = float('NaN')\n",
    "df2.replace('', nan_value, inplace=True)\n",
    "n_missing_values = df2.isnull().sum()[0]\n",
    "print('Total missing values (NaN) in the feature column:', n_missing_values)\n",
    "print('\\nTotal missing values (NaN) takes up {:.2%} of our data.'.format(n_missing_values/len(df.index)))"
   ]
  },
  {
   "cell_type": "code",
   "execution_count": 12,
   "metadata": {},
   "outputs": [],
   "source": [
    "# Remove rows containing missing values\n",
    "df2.dropna(subset=['X'], inplace=True)"
   ]
  },
  {
   "cell_type": "code",
   "execution_count": 13,
   "metadata": {},
   "outputs": [],
   "source": [
    "df2 = df2.sort_values(by='X')"
   ]
  },
  {
   "cell_type": "code",
   "execution_count": 14,
   "metadata": {},
   "outputs": [],
   "source": [
    "# Drop rows that contain non-english characters\n",
    "df2.drop(df2.tail(93).index, inplace=True)"
   ]
  },
  {
   "cell_type": "code",
   "execution_count": 15,
   "metadata": {},
   "outputs": [
    {
     "data": {
      "text/plain": [
       "(785666, 2)"
      ]
     },
     "metadata": {},
     "output_type": "display_data"
    },
    {
     "data": {
      "text/html": [
       "<div>\n",
       "<style scoped>\n",
       "    .dataframe tbody tr th:only-of-type {\n",
       "        vertical-align: middle;\n",
       "    }\n",
       "\n",
       "    .dataframe tbody tr th {\n",
       "        vertical-align: top;\n",
       "    }\n",
       "\n",
       "    .dataframe thead th {\n",
       "        text-align: right;\n",
       "    }\n",
       "</style>\n",
       "<table border=\"1\" class=\"dataframe\">\n",
       "  <thead>\n",
       "    <tr style=\"text-align: right;\">\n",
       "      <th></th>\n",
       "      <th>X</th>\n",
       "      <th>y</th>\n",
       "    </tr>\n",
       "  </thead>\n",
       "  <tbody>\n",
       "    <tr>\n",
       "      <th>235643</th>\n",
       "      <td>aa</td>\n",
       "      <td>0</td>\n",
       "    </tr>\n",
       "    <tr>\n",
       "      <th>233861</th>\n",
       "      <td>aa</td>\n",
       "      <td>0</td>\n",
       "    </tr>\n",
       "    <tr>\n",
       "      <th>667278</th>\n",
       "      <td>aa</td>\n",
       "      <td>0</td>\n",
       "    </tr>\n",
       "    <tr>\n",
       "      <th>279614</th>\n",
       "      <td>aa</td>\n",
       "      <td>0</td>\n",
       "    </tr>\n",
       "    <tr>\n",
       "      <th>565440</th>\n",
       "      <td>aa</td>\n",
       "      <td>0</td>\n",
       "    </tr>\n",
       "    <tr>\n",
       "      <th>320658</th>\n",
       "      <td>aa</td>\n",
       "      <td>0</td>\n",
       "    </tr>\n",
       "    <tr>\n",
       "      <th>318437</th>\n",
       "      <td>aa exec lead congrats</td>\n",
       "      <td>0</td>\n",
       "    </tr>\n",
       "    <tr>\n",
       "      <th>282950</th>\n",
       "      <td>aa houston office interestingly enough wes col...</td>\n",
       "      <td>0</td>\n",
       "    </tr>\n",
       "    <tr>\n",
       "      <th>688615</th>\n",
       "      <td>aa indicated proposal regard transactions done</td>\n",
       "      <td>0</td>\n",
       "    </tr>\n",
       "    <tr>\n",
       "      <th>566819</th>\n",
       "      <td>aa informed hedges new power company warrants</td>\n",
       "      <td>0</td>\n",
       "    </tr>\n",
       "  </tbody>\n",
       "</table>\n",
       "</div>"
      ],
      "text/plain": [
       "                                                        X  y\n",
       "235643                                                 aa  0\n",
       "233861                                                 aa  0\n",
       "667278                                                 aa  0\n",
       "279614                                                 aa  0\n",
       "565440                                                 aa  0\n",
       "320658                                                 aa  0\n",
       "318437                              aa exec lead congrats  0\n",
       "282950  aa houston office interestingly enough wes col...  0\n",
       "688615     aa indicated proposal regard transactions done  0\n",
       "566819      aa informed hedges new power company warrants  0"
      ]
     },
     "metadata": {},
     "output_type": "display_data"
    },
    {
     "data": {
      "text/html": [
       "<div>\n",
       "<style scoped>\n",
       "    .dataframe tbody tr th:only-of-type {\n",
       "        vertical-align: middle;\n",
       "    }\n",
       "\n",
       "    .dataframe tbody tr th {\n",
       "        vertical-align: top;\n",
       "    }\n",
       "\n",
       "    .dataframe thead th {\n",
       "        text-align: right;\n",
       "    }\n",
       "</style>\n",
       "<table border=\"1\" class=\"dataframe\">\n",
       "  <thead>\n",
       "    <tr style=\"text-align: right;\">\n",
       "      <th></th>\n",
       "      <th>X</th>\n",
       "      <th>y</th>\n",
       "    </tr>\n",
       "  </thead>\n",
       "  <tbody>\n",
       "    <tr>\n",
       "      <th>142442</th>\n",
       "      <td>àßíãìâ ãèñý ì</td>\n",
       "      <td>1</td>\n",
       "    </tr>\n",
       "    <tr>\n",
       "      <th>522845</th>\n",
       "      <td>àãõâÞ üùé õèêÞã Ýøã ô</td>\n",
       "      <td>1</td>\n",
       "    </tr>\n",
       "    <tr>\n",
       "      <th>659970</th>\n",
       "      <td>àçå õèµô µèí õèêð ç</td>\n",
       "      <td>1</td>\n",
       "    </tr>\n",
       "    <tr>\n",
       "      <th>406937</th>\n",
       "      <td>á áþãõ printer hp deskjet x dpi áùå è ß</td>\n",
       "      <td>1</td>\n",
       "    </tr>\n",
       "    <tr>\n",
       "      <th>133249</th>\n",
       "      <td>á é</td>\n",
       "      <td>1</td>\n",
       "    </tr>\n",
       "    <tr>\n",
       "      <th>479653</th>\n",
       "      <td>á þãõ vcd ã óÝøã ô sme ßÞíôÞàµíãìàÞçµ</td>\n",
       "      <td>1</td>\n",
       "    </tr>\n",
       "    <tr>\n",
       "      <th>148130</th>\n",
       "      <td>á þãõ vcd êíÞ ã óÝøã ô sme ßÞàÞçµ</td>\n",
       "      <td>1</td>\n",
       "    </tr>\n",
       "    <tr>\n",
       "      <th>50101</th>\n",
       "      <td>á þãõ vcd êíÞ ã óÝøã ô smes ßÞíôÞàµíãìàÞ</td>\n",
       "      <td>1</td>\n",
       "    </tr>\n",
       "    <tr>\n",
       "      <th>490907</th>\n",
       "      <td>â b åý Ýùø</td>\n",
       "      <td>1</td>\n",
       "    </tr>\n",
       "    <tr>\n",
       "      <th>505299</th>\n",
       "      <td>â five million pound cash credited file</td>\n",
       "      <td>1</td>\n",
       "    </tr>\n",
       "  </tbody>\n",
       "</table>\n",
       "</div>"
      ],
      "text/plain": [
       "                                               X  y\n",
       "142442                             àßíãìâ ãèñý ì  1\n",
       "522845                     àãõâÞ üùé õèêÞã Ýøã ô  1\n",
       "659970                       àçå õèµô µèí õèêð ç  1\n",
       "406937   á áþãõ printer hp deskjet x dpi áùå è ß  1\n",
       "133249                                       á é  1\n",
       "479653     á þãõ vcd ã óÝøã ô sme ßÞíôÞàµíãìàÞçµ  1\n",
       "148130         á þãõ vcd êíÞ ã óÝøã ô sme ßÞàÞçµ  1\n",
       "50101   á þãõ vcd êíÞ ã óÝøã ô smes ßÞíôÞàµíãìàÞ  1\n",
       "490907                                â b åý Ýùø  1\n",
       "505299   â five million pound cash credited file  1"
      ]
     },
     "metadata": {},
     "output_type": "display_data"
    }
   ],
   "source": [
    "display(df2.shape)\n",
    "display(df2.head(10))\n",
    "display(df2.tail(10))"
   ]
  },
  {
   "cell_type": "code",
   "execution_count": 16,
   "metadata": {},
   "outputs": [],
   "source": [
    "# Save as cleand df\n",
    "df2.to_csv('../data/emails_cleaned.csv', index=False)"
   ]
  },
  {
   "cell_type": "code",
   "execution_count": 17,
   "metadata": {},
   "outputs": [
    {
     "name": "stdout",
     "output_type": "stream",
     "text": [
      "The model-ready dataset contains 785666 rows.\n"
     ]
    }
   ],
   "source": [
    "df2.shape\n",
    "print('The model-ready dataset contains {} rows.'.format(df2.shape[0]))"
   ]
  },
  {
   "cell_type": "code",
   "execution_count": null,
   "metadata": {},
   "outputs": [],
   "source": []
  }
 ],
 "metadata": {
  "kernelspec": {
   "display_name": "Python 3 (ipykernel)",
   "language": "python",
   "name": "python3"
  },
  "language_info": {
   "codemirror_mode": {
    "name": "ipython",
    "version": 3
   },
   "file_extension": ".py",
   "mimetype": "text/x-python",
   "name": "python",
   "nbconvert_exporter": "python",
   "pygments_lexer": "ipython3",
   "version": "3.7.13"
  }
 },
 "nbformat": 4,
 "nbformat_minor": 4
}
