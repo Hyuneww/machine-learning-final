{
 "cells": [
  {
   "cell_type": "markdown",
   "metadata": {},
   "source": [
    "## Data Pre-process"
   ]
  },
  {
   "cell_type": "markdown",
   "metadata": {},
   "source": [
    "### Description\n",
    "\n",
    "This script aggregates raw datasets into a unified data frame. The data frame contains two columns: \n",
    "\n",
    "Column 1: **label**, spam indicator (0 = not spam; 1 = spam)\n",
    "\n",
    "Column 2: **feature**, email \n",
    "\n",
    "### Terms\n",
    "\n",
    "**ham**: emails marked as non-spam\n",
    "\n",
    "**spam**: spam emails"
   ]
  },
  {
   "cell_type": "code",
   "execution_count": 1,
   "metadata": {},
   "outputs": [],
   "source": [
    "import pandas as pd\n",
    "import csv\n",
    "import glob\n",
    "import re\n",
    "import os"
   ]
  },
  {
   "cell_type": "code",
   "execution_count": 2,
   "metadata": {},
   "outputs": [],
   "source": [
    "name_of_raw_hams = [name for name in glob.glob('../data/raw/ham/*.txt')]\n",
    "name_of_raw_spams = [name for name in glob.glob('../data/raw/spam/*.txt')]\n",
    "list_of_csv_ham = []\n",
    "list_of_csv_spam = []"
   ]
  },
  {
   "cell_type": "code",
   "execution_count": 3,
   "metadata": {},
   "outputs": [
    {
     "name": "stderr",
     "output_type": "stream",
     "text": [
      "D:\\Anaconda\\anacondaexe\\envs\\python3.77\\lib\\site-packages\\pandas\\util\\_decorators.py:311: ParserWarning: Falling back to the 'python' engine because the 'c' engine does not support regex separators (separators > 1 char and different from '\\s+' are interpreted as regex); you can avoid this warning by specifying engine='python'.\n",
      "  return func(*args, **kwargs)\n"
     ]
    }
   ],
   "source": [
    "# Combine ham emails to list_of_csv_ham\n",
    "for ham in name_of_raw_hams:\n",
    "    ham_content = pd.read_csv(ham, sep='delimiter', header=None,encoding='latin-1')\n",
    "    list_of_csv_ham.append(ham_content)\n",
    "# Combine spam emails to list_of_csv_spam\n",
    "for spam in name_of_raw_spams:\n",
    "    spam_content = pd.read_csv(spam, sep='delimiter', header=None,encoding='latin-1')\n",
    "    list_of_csv_spam.append(spam_content)\n",
    "# Convert to data frames\n",
    "df_hams = pd.concat(list_of_csv_ham).reset_index(drop=True)\n",
    "df_spams = pd.concat(list_of_csv_spam).reset_index(drop=True)\n",
    "# Add the label column\n",
    "df_hams['y'] = [0] * len(df_hams)\n",
    "df_spams['y'] = [1] * len(df_spams)"
   ]
  },
  {
   "cell_type": "code",
   "execution_count": 4,
   "metadata": {},
   "outputs": [],
   "source": [
    "# Update column names\n",
    "col_name = {0: 'X', 'y': 'y'}\n",
    "df_hams = df_hams.rename(columns=col_name)\n",
    "df_spams = df_spams.rename(columns=col_name)"
   ]
  },
  {
   "cell_type": "code",
   "execution_count": 5,
   "metadata": {},
   "outputs": [],
   "source": [
    "# Concatenate to a full dataset\n",
    "df_emails = pd.concat([df_hams, df_spams], axis=0)"
   ]
  },
  {
   "cell_type": "code",
   "execution_count": 6,
   "metadata": {},
   "outputs": [],
   "source": [
    "# Save as csv files\n",
    "df_hams.to_csv('../data/ham_emails.csv', index=False)\n",
    "df_spams.to_csv('../data/spam_emails.csv', index=False)\n",
    "df_emails.to_csv('../data/emails.csv', index=False)"
   ]
  },
  {
   "cell_type": "code",
   "execution_count": null,
   "metadata": {},
   "outputs": [],
   "source": []
  }
 ],
 "metadata": {
  "kernelspec": {
   "display_name": "Python 3 (ipykernel)",
   "language": "python",
   "name": "python3"
  },
  "language_info": {
   "codemirror_mode": {
    "name": "ipython",
    "version": 3
   },
   "file_extension": ".py",
   "mimetype": "text/x-python",
   "name": "python",
   "nbconvert_exporter": "python",
   "pygments_lexer": "ipython3",
   "version": "3.7.13"
  }
 },
 "nbformat": 4,
 "nbformat_minor": 4
}
